{
  "nbformat": 4,
  "nbformat_minor": 0,
  "metadata": {
    "colab": {
      "name": "Part_A_LinearRegression.ipynb",
      "provenance": [],
      "collapsed_sections": []
    },
    "kernelspec": {
      "name": "python3",
      "display_name": "Python 3"
    },
    "language_info": {
      "name": "python"
    }
  },
  "cells": [
    {
      "cell_type": "markdown",
      "source": [
        "#Linear Regression"
      ],
      "metadata": {
        "id": "Zpx_uWctCb2E"
      }
    },
    {
      "cell_type": "code",
      "execution_count": null,
      "metadata": {
        "id": "C2Ar3X6O87Qs"
      },
      "outputs": [],
      "source": [
        "from sklearn import preprocessing\n",
        "import numpy as np\n",
        "import pandas as pd\n",
        "import matplotlib.pyplot as plt\n",
        "from sklearn import linear_model\n",
        "from sklearn.metrics import mean_squared_error, r2_score"
      ]
    },
    {
      "cell_type": "markdown",
      "source": [
        "#Load Data"
      ],
      "metadata": {
        "id": "VVGd3UYABBd2"
      }
    },
    {
      "cell_type": "code",
      "source": [
        "df_Data_Normal = pd.read_csv(\"Data_Normal.txt\")\n",
        "print(df_Data_Normal.head())\n",
        "df_Data_Normal.shape"
      ],
      "metadata": {
        "colab": {
          "base_uri": "https://localhost:8080/"
        },
        "id": "GVReL0Yu_cvd",
        "outputId": "d46b0a16-7e67-4eb7-e9ff-430ceb7041a6"
      },
      "execution_count": null,
      "outputs": [
        {
          "output_type": "stream",
          "name": "stdout",
          "text": [
            "   Height     Weight    Male\n",
            "0  151.765  47.825606      1\n",
            "1  139.700  36.485807      0\n",
            "2  136.525  31.864838      0\n",
            "3  156.845  53.041915      1\n",
            "4  145.415  41.276872      0\n"
          ]
        },
        {
          "output_type": "execute_result",
          "data": {
            "text/plain": [
              "(60, 3)"
            ]
          },
          "metadata": {},
          "execution_count": 8
        }
      ]
    },
    {
      "cell_type": "code",
      "source": [
        "import pandas as pd\n",
        "  \n",
        "df_Data_With_Outlier = pd.read_csv(\"Data_With_Outlier.txt\")\n",
        "print(df_Data_With_Outlier.head())\n",
        "df_Data_With_Outlier.shape"
      ],
      "metadata": {
        "colab": {
          "base_uri": "https://localhost:8080/"
        },
        "id": "u2fSDxiUA1ZA",
        "outputId": "241cb2c7-c472-4b02-8ad6-e8f8d3beb2bb"
      },
      "execution_count": null,
      "outputs": [
        {
          "output_type": "stream",
          "name": "stdout",
          "text": [
            "   Height     Weight    Male\n",
            "0  151.765  47.825606      1\n",
            "1  139.700  36.485807      0\n",
            "2  136.525  31.864838      0\n",
            "3  156.845  53.041915      1\n",
            "4  145.415  41.276872      0\n"
          ]
        },
        {
          "output_type": "execute_result",
          "data": {
            "text/plain": [
              "(62, 3)"
            ]
          },
          "metadata": {},
          "execution_count": 9
        }
      ]
    },
    {
      "cell_type": "markdown",
      "source": [
        "#Normalize Dataset"
      ],
      "metadata": {
        "id": "wfPdWArK9Osx"
      }
    },
    {
      "cell_type": "code",
      "source": [
        "from sklearn import preprocessing\n",
        "import numpy as np\n",
        "d = preprocessing.normalize(df_Data_Normal)\n",
        "scaled_df_Normal = pd.DataFrame(d, columns=['Height','Weight','Male'])\n",
        "scaled_df_Normal.head()"
      ],
      "metadata": {
        "colab": {
          "base_uri": "https://localhost:8080/",
          "height": 206
        },
        "id": "aY4vM8I3BAXl",
        "outputId": "da0fb2cb-8469-4dbb-ad88-d1c01fa148fd"
      },
      "execution_count": null,
      "outputs": [
        {
          "output_type": "execute_result",
          "data": {
            "text/html": [
              "\n",
              "  <div id=\"df-ea637ab4-b5bb-410e-9d4a-1495de267cbe\">\n",
              "    <div class=\"colab-df-container\">\n",
              "      <div>\n",
              "<style scoped>\n",
              "    .dataframe tbody tr th:only-of-type {\n",
              "        vertical-align: middle;\n",
              "    }\n",
              "\n",
              "    .dataframe tbody tr th {\n",
              "        vertical-align: top;\n",
              "    }\n",
              "\n",
              "    .dataframe thead th {\n",
              "        text-align: right;\n",
              "    }\n",
              "</style>\n",
              "<table border=\"1\" class=\"dataframe\">\n",
              "  <thead>\n",
              "    <tr style=\"text-align: right;\">\n",
              "      <th></th>\n",
              "      <th>Height</th>\n",
              "      <th>Weight</th>\n",
              "      <th>Male</th>\n",
              "    </tr>\n",
              "  </thead>\n",
              "  <tbody>\n",
              "    <tr>\n",
              "      <th>0</th>\n",
              "      <td>0.953744</td>\n",
              "      <td>0.300553</td>\n",
              "      <td>0.006284</td>\n",
              "    </tr>\n",
              "    <tr>\n",
              "      <th>1</th>\n",
              "      <td>0.967546</td>\n",
              "      <td>0.252696</td>\n",
              "      <td>0.000000</td>\n",
              "    </tr>\n",
              "    <tr>\n",
              "      <th>2</th>\n",
              "      <td>0.973827</td>\n",
              "      <td>0.227291</td>\n",
              "      <td>0.000000</td>\n",
              "    </tr>\n",
              "    <tr>\n",
              "      <th>3</th>\n",
              "      <td>0.947280</td>\n",
              "      <td>0.320351</td>\n",
              "      <td>0.006040</td>\n",
              "    </tr>\n",
              "    <tr>\n",
              "      <th>4</th>\n",
              "      <td>0.961995</td>\n",
              "      <td>0.273068</td>\n",
              "      <td>0.000000</td>\n",
              "    </tr>\n",
              "  </tbody>\n",
              "</table>\n",
              "</div>\n",
              "      <button class=\"colab-df-convert\" onclick=\"convertToInteractive('df-ea637ab4-b5bb-410e-9d4a-1495de267cbe')\"\n",
              "              title=\"Convert this dataframe to an interactive table.\"\n",
              "              style=\"display:none;\">\n",
              "        \n",
              "  <svg xmlns=\"http://www.w3.org/2000/svg\" height=\"24px\"viewBox=\"0 0 24 24\"\n",
              "       width=\"24px\">\n",
              "    <path d=\"M0 0h24v24H0V0z\" fill=\"none\"/>\n",
              "    <path d=\"M18.56 5.44l.94 2.06.94-2.06 2.06-.94-2.06-.94-.94-2.06-.94 2.06-2.06.94zm-11 1L8.5 8.5l.94-2.06 2.06-.94-2.06-.94L8.5 2.5l-.94 2.06-2.06.94zm10 10l.94 2.06.94-2.06 2.06-.94-2.06-.94-.94-2.06-.94 2.06-2.06.94z\"/><path d=\"M17.41 7.96l-1.37-1.37c-.4-.4-.92-.59-1.43-.59-.52 0-1.04.2-1.43.59L10.3 9.45l-7.72 7.72c-.78.78-.78 2.05 0 2.83L4 21.41c.39.39.9.59 1.41.59.51 0 1.02-.2 1.41-.59l7.78-7.78 2.81-2.81c.8-.78.8-2.07 0-2.86zM5.41 20L4 18.59l7.72-7.72 1.47 1.35L5.41 20z\"/>\n",
              "  </svg>\n",
              "      </button>\n",
              "      \n",
              "  <style>\n",
              "    .colab-df-container {\n",
              "      display:flex;\n",
              "      flex-wrap:wrap;\n",
              "      gap: 12px;\n",
              "    }\n",
              "\n",
              "    .colab-df-convert {\n",
              "      background-color: #E8F0FE;\n",
              "      border: none;\n",
              "      border-radius: 50%;\n",
              "      cursor: pointer;\n",
              "      display: none;\n",
              "      fill: #1967D2;\n",
              "      height: 32px;\n",
              "      padding: 0 0 0 0;\n",
              "      width: 32px;\n",
              "    }\n",
              "\n",
              "    .colab-df-convert:hover {\n",
              "      background-color: #E2EBFA;\n",
              "      box-shadow: 0px 1px 2px rgba(60, 64, 67, 0.3), 0px 1px 3px 1px rgba(60, 64, 67, 0.15);\n",
              "      fill: #174EA6;\n",
              "    }\n",
              "\n",
              "    [theme=dark] .colab-df-convert {\n",
              "      background-color: #3B4455;\n",
              "      fill: #D2E3FC;\n",
              "    }\n",
              "\n",
              "    [theme=dark] .colab-df-convert:hover {\n",
              "      background-color: #434B5C;\n",
              "      box-shadow: 0px 1px 3px 1px rgba(0, 0, 0, 0.15);\n",
              "      filter: drop-shadow(0px 1px 2px rgba(0, 0, 0, 0.3));\n",
              "      fill: #FFFFFF;\n",
              "    }\n",
              "  </style>\n",
              "\n",
              "      <script>\n",
              "        const buttonEl =\n",
              "          document.querySelector('#df-ea637ab4-b5bb-410e-9d4a-1495de267cbe button.colab-df-convert');\n",
              "        buttonEl.style.display =\n",
              "          google.colab.kernel.accessAllowed ? 'block' : 'none';\n",
              "\n",
              "        async function convertToInteractive(key) {\n",
              "          const element = document.querySelector('#df-ea637ab4-b5bb-410e-9d4a-1495de267cbe');\n",
              "          const dataTable =\n",
              "            await google.colab.kernel.invokeFunction('convertToInteractive',\n",
              "                                                     [key], {});\n",
              "          if (!dataTable) return;\n",
              "\n",
              "          const docLinkHtml = 'Like what you see? Visit the ' +\n",
              "            '<a target=\"_blank\" href=https://colab.research.google.com/notebooks/data_table.ipynb>data table notebook</a>'\n",
              "            + ' to learn more about interactive tables.';\n",
              "          element.innerHTML = '';\n",
              "          dataTable['output_type'] = 'display_data';\n",
              "          await google.colab.output.renderOutput(dataTable, element);\n",
              "          const docLink = document.createElement('div');\n",
              "          docLink.innerHTML = docLinkHtml;\n",
              "          element.appendChild(docLink);\n",
              "        }\n",
              "      </script>\n",
              "    </div>\n",
              "  </div>\n",
              "  "
            ],
            "text/plain": [
              "     Height    Weight      Male\n",
              "0  0.953744  0.300553  0.006284\n",
              "1  0.967546  0.252696  0.000000\n",
              "2  0.973827  0.227291  0.000000\n",
              "3  0.947280  0.320351  0.006040\n",
              "4  0.961995  0.273068  0.000000"
            ]
          },
          "metadata": {},
          "execution_count": 10
        }
      ]
    },
    {
      "cell_type": "code",
      "source": [
        "from sklearn import preprocessing\n",
        "import numpy as np\n",
        "d = preprocessing.normalize(df_Data_With_Outlier)\n",
        "scaled_df_Outlier = pd.DataFrame(d, columns=['Height','Weight','Male'])\n",
        "scaled_df_Outlier.head()"
      ],
      "metadata": {
        "colab": {
          "base_uri": "https://localhost:8080/",
          "height": 206
        },
        "id": "X-D8CQCCCHi_",
        "outputId": "d897e4c4-80a2-42f7-fdf9-cf1f91a6524f"
      },
      "execution_count": null,
      "outputs": [
        {
          "output_type": "execute_result",
          "data": {
            "text/html": [
              "\n",
              "  <div id=\"df-9055d649-c0c7-402e-b451-d8123bc2fb9a\">\n",
              "    <div class=\"colab-df-container\">\n",
              "      <div>\n",
              "<style scoped>\n",
              "    .dataframe tbody tr th:only-of-type {\n",
              "        vertical-align: middle;\n",
              "    }\n",
              "\n",
              "    .dataframe tbody tr th {\n",
              "        vertical-align: top;\n",
              "    }\n",
              "\n",
              "    .dataframe thead th {\n",
              "        text-align: right;\n",
              "    }\n",
              "</style>\n",
              "<table border=\"1\" class=\"dataframe\">\n",
              "  <thead>\n",
              "    <tr style=\"text-align: right;\">\n",
              "      <th></th>\n",
              "      <th>Height</th>\n",
              "      <th>Weight</th>\n",
              "      <th>Male</th>\n",
              "    </tr>\n",
              "  </thead>\n",
              "  <tbody>\n",
              "    <tr>\n",
              "      <th>0</th>\n",
              "      <td>0.953744</td>\n",
              "      <td>0.300553</td>\n",
              "      <td>0.006284</td>\n",
              "    </tr>\n",
              "    <tr>\n",
              "      <th>1</th>\n",
              "      <td>0.967546</td>\n",
              "      <td>0.252696</td>\n",
              "      <td>0.000000</td>\n",
              "    </tr>\n",
              "    <tr>\n",
              "      <th>2</th>\n",
              "      <td>0.973827</td>\n",
              "      <td>0.227291</td>\n",
              "      <td>0.000000</td>\n",
              "    </tr>\n",
              "    <tr>\n",
              "      <th>3</th>\n",
              "      <td>0.947280</td>\n",
              "      <td>0.320351</td>\n",
              "      <td>0.006040</td>\n",
              "    </tr>\n",
              "    <tr>\n",
              "      <th>4</th>\n",
              "      <td>0.961995</td>\n",
              "      <td>0.273068</td>\n",
              "      <td>0.000000</td>\n",
              "    </tr>\n",
              "  </tbody>\n",
              "</table>\n",
              "</div>\n",
              "      <button class=\"colab-df-convert\" onclick=\"convertToInteractive('df-9055d649-c0c7-402e-b451-d8123bc2fb9a')\"\n",
              "              title=\"Convert this dataframe to an interactive table.\"\n",
              "              style=\"display:none;\">\n",
              "        \n",
              "  <svg xmlns=\"http://www.w3.org/2000/svg\" height=\"24px\"viewBox=\"0 0 24 24\"\n",
              "       width=\"24px\">\n",
              "    <path d=\"M0 0h24v24H0V0z\" fill=\"none\"/>\n",
              "    <path d=\"M18.56 5.44l.94 2.06.94-2.06 2.06-.94-2.06-.94-.94-2.06-.94 2.06-2.06.94zm-11 1L8.5 8.5l.94-2.06 2.06-.94-2.06-.94L8.5 2.5l-.94 2.06-2.06.94zm10 10l.94 2.06.94-2.06 2.06-.94-2.06-.94-.94-2.06-.94 2.06-2.06.94z\"/><path d=\"M17.41 7.96l-1.37-1.37c-.4-.4-.92-.59-1.43-.59-.52 0-1.04.2-1.43.59L10.3 9.45l-7.72 7.72c-.78.78-.78 2.05 0 2.83L4 21.41c.39.39.9.59 1.41.59.51 0 1.02-.2 1.41-.59l7.78-7.78 2.81-2.81c.8-.78.8-2.07 0-2.86zM5.41 20L4 18.59l7.72-7.72 1.47 1.35L5.41 20z\"/>\n",
              "  </svg>\n",
              "      </button>\n",
              "      \n",
              "  <style>\n",
              "    .colab-df-container {\n",
              "      display:flex;\n",
              "      flex-wrap:wrap;\n",
              "      gap: 12px;\n",
              "    }\n",
              "\n",
              "    .colab-df-convert {\n",
              "      background-color: #E8F0FE;\n",
              "      border: none;\n",
              "      border-radius: 50%;\n",
              "      cursor: pointer;\n",
              "      display: none;\n",
              "      fill: #1967D2;\n",
              "      height: 32px;\n",
              "      padding: 0 0 0 0;\n",
              "      width: 32px;\n",
              "    }\n",
              "\n",
              "    .colab-df-convert:hover {\n",
              "      background-color: #E2EBFA;\n",
              "      box-shadow: 0px 1px 2px rgba(60, 64, 67, 0.3), 0px 1px 3px 1px rgba(60, 64, 67, 0.15);\n",
              "      fill: #174EA6;\n",
              "    }\n",
              "\n",
              "    [theme=dark] .colab-df-convert {\n",
              "      background-color: #3B4455;\n",
              "      fill: #D2E3FC;\n",
              "    }\n",
              "\n",
              "    [theme=dark] .colab-df-convert:hover {\n",
              "      background-color: #434B5C;\n",
              "      box-shadow: 0px 1px 3px 1px rgba(0, 0, 0, 0.15);\n",
              "      filter: drop-shadow(0px 1px 2px rgba(0, 0, 0, 0.3));\n",
              "      fill: #FFFFFF;\n",
              "    }\n",
              "  </style>\n",
              "\n",
              "      <script>\n",
              "        const buttonEl =\n",
              "          document.querySelector('#df-9055d649-c0c7-402e-b451-d8123bc2fb9a button.colab-df-convert');\n",
              "        buttonEl.style.display =\n",
              "          google.colab.kernel.accessAllowed ? 'block' : 'none';\n",
              "\n",
              "        async function convertToInteractive(key) {\n",
              "          const element = document.querySelector('#df-9055d649-c0c7-402e-b451-d8123bc2fb9a');\n",
              "          const dataTable =\n",
              "            await google.colab.kernel.invokeFunction('convertToInteractive',\n",
              "                                                     [key], {});\n",
              "          if (!dataTable) return;\n",
              "\n",
              "          const docLinkHtml = 'Like what you see? Visit the ' +\n",
              "            '<a target=\"_blank\" href=https://colab.research.google.com/notebooks/data_table.ipynb>data table notebook</a>'\n",
              "            + ' to learn more about interactive tables.';\n",
              "          element.innerHTML = '';\n",
              "          dataTable['output_type'] = 'display_data';\n",
              "          await google.colab.output.renderOutput(dataTable, element);\n",
              "          const docLink = document.createElement('div');\n",
              "          docLink.innerHTML = docLinkHtml;\n",
              "          element.appendChild(docLink);\n",
              "        }\n",
              "      </script>\n",
              "    </div>\n",
              "  </div>\n",
              "  "
            ],
            "text/plain": [
              "     Height    Weight      Male\n",
              "0  0.953744  0.300553  0.006284\n",
              "1  0.967546  0.252696  0.000000\n",
              "2  0.973827  0.227291  0.000000\n",
              "3  0.947280  0.320351  0.006040\n",
              "4  0.961995  0.273068  0.000000"
            ]
          },
          "metadata": {},
          "execution_count": 11
        }
      ]
    },
    {
      "cell_type": "code",
      "source": [
        "scaled_df_Normal.plot(figsize=(18,5))"
      ],
      "metadata": {
        "colab": {
          "base_uri": "https://localhost:8080/",
          "height": 326
        },
        "id": "jszXh50TGUrt",
        "outputId": "9102765b-95a0-4b83-e3cf-37ff8208d698"
      },
      "execution_count": null,
      "outputs": [
        {
          "output_type": "execute_result",
          "data": {
            "text/plain": [
              "<matplotlib.axes._subplots.AxesSubplot at 0x7f64bb5c9210>"
            ]
          },
          "metadata": {},
          "execution_count": 12
        },
        {
          "output_type": "display_data",
          "data": {
            "image/png": "[encoded data removed]",
            "text/plain": [
              "<Figure size 1296x360 with 1 Axes>"
            ]
          },
          "metadata": {
            "needs_background": "light"
          }
        }
      ]
    },
    {
      "cell_type": "code",
      "source": [
        "scaled_df_Outlier.plot(figsize=(18,5))"
      ],
      "metadata": {
        "colab": {
          "base_uri": "https://localhost:8080/",
          "height": 326
        },
        "id": "LMAUk-UCGdiG",
        "outputId": "988ae160-a363-4837-aae2-178752fd0eff"
      },
      "execution_count": null,
      "outputs": [
        {
          "output_type": "execute_result",
          "data": {
            "text/plain": [
              "<matplotlib.axes._subplots.AxesSubplot at 0x7f64bb4c8910>"
            ]
          },
          "metadata": {},
          "execution_count": 13
        },
        {
          "output_type": "display_data",
          "data": {
            "image/png": "[encoded data removed]",
            "text/plain": [
              "<Figure size 1296x360 with 1 Axes>"
            ]
          },
          "metadata": {
            "needs_background": "light"
          }
        }
      ]
    },
    {
      "cell_type": "code",
      "source": [
        "scaled_df_Normal.hist()"
      ],
      "metadata": {
        "colab": {
          "base_uri": "https://localhost:8080/",
          "height": 373
        },
        "id": "EThzrpl5GjK3",
        "outputId": "440a95ea-e7e4-4f24-e2e2-0a73d315b8e7"
      },
      "execution_count": null,
      "outputs": [
        {
          "output_type": "execute_result",
          "data": {
            "text/plain": [
              "array([[<matplotlib.axes._subplots.AxesSubplot object at 0x7f64baffca10>,\n",
              "        <matplotlib.axes._subplots.AxesSubplot object at 0x7f64bb02ac50>],\n",
              "       [<matplotlib.axes._subplots.AxesSubplot object at 0x7f64baf6d290>,\n",
              "        <matplotlib.axes._subplots.AxesSubplot object at 0x7f64bafa2890>]],\n",
              "      dtype=object)"
            ]
          },
          "metadata": {},
          "execution_count": 14
        },
        {
          "output_type": "display_data",
          "data": {
            "image/png": "[encoded data removed]",
            "text/plain": [
              "<Figure size 432x288 with 4 Axes>"
            ]
          },
          "metadata": {
            "needs_background": "light"
          }
        }
      ]
    },
    {
      "cell_type": "code",
      "source": [
        "scaled_df_Outlier.hist()"
      ],
      "metadata": {
        "colab": {
          "base_uri": "https://localhost:8080/",
          "height": 373
        },
        "id": "IhO4lcrsGmT-",
        "outputId": "0ac44f6f-b71a-47a3-d45d-5c75b8a7fc99"
      },
      "execution_count": null,
      "outputs": [
        {
          "output_type": "execute_result",
          "data": {
            "text/plain": [
              "array([[<matplotlib.axes._subplots.AxesSubplot object at 0x7f64baeaaf90>,\n",
              "        <matplotlib.axes._subplots.AxesSubplot object at 0x7f64bae5b0d0>],\n",
              "       [<matplotlib.axes._subplots.AxesSubplot object at 0x7f64bae0e6d0>,\n",
              "        <matplotlib.axes._subplots.AxesSubplot object at 0x7f64badc4cd0>]],\n",
              "      dtype=object)"
            ]
          },
          "metadata": {},
          "execution_count": 15
        },
        {
          "output_type": "display_data",
          "data": {
            "image/png": "[encoded data removed]",
            "text/plain": [
              "<Figure size 432x288 with 4 Axes>"
            ]
          },
          "metadata": {
            "needs_background": "light"
          }
        }
      ]
    },
    {
      "cell_type": "markdown",
      "source": [
        "#Plot"
      ],
      "metadata": {
        "id": "8gkyPLAVDb5r"
      }
    },
    {
      "cell_type": "code",
      "source": [
        "plt.scatter(scaled_df_Normal.Height,scaled_df_Normal.Weight,color='red')\n",
        "plt.xlabel(\"height\")\n",
        "plt.ylabel(\"weight\")"
      ],
      "metadata": {
        "colab": {
          "base_uri": "https://localhost:8080/",
          "height": 297
        },
        "id": "zuC3ZIFPDbVE",
        "outputId": "1c7f22c3-127f-4de9-ae45-b1b47e5a3299"
      },
      "execution_count": null,
      "outputs": [
        {
          "output_type": "execute_result",
          "data": {
            "text/plain": [
              "Text(0, 0.5, 'weight')"
            ]
          },
          "metadata": {},
          "execution_count": 16
        },
        {
          "output_type": "display_data",
          "data": {
            "image/png": "[encoded data removed]",
            "text/plain": [
              "<Figure size 432x288 with 1 Axes>"
            ]
          },
          "metadata": {
            "needs_background": "light"
          }
        }
      ]
    },
    {
      "cell_type": "code",
      "source": [
        "plt.scatter(scaled_df_Outlier.Height,scaled_df_Outlier.Weight,color='blue')\n",
        "plt.xlabel(\"height\")\n",
        "plt.ylabel(\"weight\")"
      ],
      "metadata": {
        "colab": {
          "base_uri": "https://localhost:8080/",
          "height": 297
        },
        "id": "uImJvHqELns-",
        "outputId": "3d2fa8a4-e26d-40aa-ce77-ed436d09e5d5"
      },
      "execution_count": null,
      "outputs": [
        {
          "output_type": "execute_result",
          "data": {
            "text/plain": [
              "Text(0, 0.5, 'weight')"
            ]
          },
          "metadata": {},
          "execution_count": 17
        },
        {
          "output_type": "display_data",
          "data": {
            "image/png": "[encoded data removed]",
            "text/plain": [
              "<Figure size 432x288 with 1 Axes>"
            ]
          },
          "metadata": {
            "needs_background": "light"
          }
        }
      ]
    },
    {
      "cell_type": "code",
      "source": [
        "X_train = scaled_df_Normal.Height\n",
        "Y_train = scaled_df_Normal.Weight\n",
        "\n",
        "X_test = scaled_df_Outlier.Height\n",
        "Y_test = scaled_df_Outlier.Weight"
      ],
      "metadata": {
        "id": "ihfRJS-EF2fO"
      },
      "execution_count": null,
      "outputs": []
    },
    {
      "cell_type": "markdown",
      "source": [
        "#Reshape"
      ],
      "metadata": {
        "id": "RPV0H4stE36J"
      }
    },
    {
      "cell_type": "code",
      "source": [
        "import numpy as np\n",
        "from sklearn.linear_model import LinearRegression\n",
        "# Create data the same way\n",
        "X_train = np.array(X_train)\n",
        "Y_train = np.array(Y_train)\n",
        "\n",
        "# Add an index value by \"reshaping\" data\n",
        "X_train = X_train.reshape(-1, 1)\n",
        "#Y_train = Y_train.reshape(-1, 1)\n",
        "\n",
        "# Create data the same way\n",
        "X_test = np.array(X_test)\n",
        "Y_test = np.array(Y_test)\n",
        "\n",
        "# Add an index value by \"reshaping\" data\n",
        "X_test = X_test.reshape(-1, 1)\n",
        "#Y_test = Y_test.reshape(-1, 1)"
      ],
      "metadata": {
        "id": "_ReMDQ99IpEw"
      },
      "execution_count": null,
      "outputs": []
    },
    {
      "cell_type": "code",
      "source": [
        "plt.scatter(X_train, Y_train,color='black')\n",
        "plt.show()"
      ],
      "metadata": {
        "colab": {
          "base_uri": "https://localhost:8080/",
          "height": 264
        },
        "id": "WyX78hNYSYGB",
        "outputId": "91224de2-2da1-41f4-8d1e-ae793cf03bcf"
      },
      "execution_count": null,
      "outputs": [
        {
          "output_type": "display_data",
          "data": {
            "image/png": "[encoded data removed]",
            "text/plain": [
              "<Figure size 432x288 with 1 Axes>"
            ]
          },
          "metadata": {
            "needs_background": "light"
          }
        }
      ]
    },
    {
      "cell_type": "code",
      "source": [
        "plt.scatter(X_test, Y_test,color='black')\n",
        "plt.show()"
      ],
      "metadata": {
        "colab": {
          "base_uri": "https://localhost:8080/",
          "height": 264
        },
        "id": "Bp7IAXeQSbpb",
        "outputId": "12a24edb-4ac7-41db-9fbd-34169a1c3d44"
      },
      "execution_count": null,
      "outputs": [
        {
          "output_type": "display_data",
          "data": {
            "image/png": "[encoded data removed]",
            "text/plain": [
              "<Figure size 432x288 with 1 Axes>"
            ]
          },
          "metadata": {
            "needs_background": "light"
          }
        }
      ]
    },
    {
      "cell_type": "markdown",
      "source": [
        "#Train the model"
      ],
      "metadata": {
        "id": "WCeDiGvbJRcX"
      }
    },
    {
      "cell_type": "markdown",
      "source": [
        "#Batch GRADIENT DESCENT "
      ],
      "metadata": {
        "id": "j-UZ0Qiuv5qJ"
      }
    },
    {
      "cell_type": "code",
      "source": [
        "import numpy as np\n",
        "import random\n",
        "from sklearn.datasets.samples_generator import make_regression \n",
        "import pylab\n",
        "from scipy import stats\n",
        "\n",
        "def gradient_descent_Batch(alpha, x, y, numIterations):\n",
        "    m = x.shape[0] # number of samples\n",
        "    theta = np.ones(2)\n",
        "    x_transpose = x.transpose()\n",
        "    for iter in range(0, numIterations):\n",
        "        hypothesis = np.dot(x, theta)\n",
        "        loss = hypothesis - y\n",
        "        J = np.sum(loss ** 2) / (2 * m)  # cost\n",
        "        print(\"iter %s | J: %.3f\" % (iter, J))  \n",
        "        gradient = np.dot(x_transpose, loss) / m         \n",
        "        theta = theta - alpha * gradient  # update\n",
        "    return theta\n",
        "\n",
        "if __name__ == '__main__':\n",
        "\n",
        "    x, y = make_regression(n_samples=100, n_features=1, n_informative=1, \n",
        "                        random_state=0, noise=35) \n",
        "    m, n = np.shape(x)\n",
        "    x = np.c_[ np.ones(m), x] # insert column\n",
        "    alpha = 0.01 # learning rate\n",
        "    theta = gradient_descent_2(alpha, x, y, 1000)\n",
        "\n",
        "    # plot\n",
        "    for i in range(x.shape[1]):\n",
        "        y_predict = theta[0] + theta[1]*x \n",
        "    pylab.plot(x[:,1],y,'o')\n",
        "    pylab.plot(x,y_predict,'k-')\n",
        "    pylab.show()\n",
        "    print(\"Done!\")"
      ],
      "metadata": {
        "id": "yDzwgpn_v3WK"
      },
      "execution_count": null,
      "outputs": []
    },
    {
      "cell_type": "code",
      "source": [
        "regr = linear_model.LinearRegression()\n",
        "\n",
        "# Train the model using the training sets\n",
        "regr.fit(X_train, Y_train)\n",
        "\n",
        "# Make predictions using the testing set\n",
        "Y_pred = regr.predict(X_test)"
      ],
      "metadata": {
        "id": "2GnNdbntMPu1"
      },
      "execution_count": null,
      "outputs": []
    },
    {
      "cell_type": "code",
      "source": [
        "m=regr.coef_[0]\n",
        "b=regr.intercept_\n",
        "print(\"slope=\",m, \"intercept=\",b)"
      ],
      "metadata": {
        "colab": {
          "base_uri": "https://localhost:8080/"
        },
        "id": "EPt0dUJXJrW4",
        "outputId": "9e5dcdc6-3212-4634-99ba-29c077c82c33"
      },
      "execution_count": null,
      "outputs": [
        {
          "output_type": "stream",
          "name": "stdout",
          "text": [
            "slope= -4.1195381458817915 intercept= 4.2307746676018105\n"
          ]
        }
      ]
    },
    {
      "cell_type": "code",
      "source": [
        "print(\"Coefficients: \\n\", regr.coef_)\n",
        "# The mean squared error\n",
        "print(\"Mean squared error: %.2f\" % mean_squared_error(Y_test, Y_pred))\n",
        "# The coefficient of determination: 1 is perfect prediction\n",
        "print(\"Coefficient of determination: %.2f\" % r2_score(Y_test, Y_pred))\n"
      ],
      "metadata": {
        "colab": {
          "base_uri": "https://localhost:8080/"
        },
        "id": "1V-OacawKq7F",
        "outputId": "88de391d-0024-43b1-ab68-a2f3e8a11125"
      },
      "execution_count": null,
      "outputs": [
        {
          "output_type": "stream",
          "name": "stdout",
          "text": [
            "Coefficients: \n",
            " [-4.11953815]\n",
            "Mean squared error: 0.00\n",
            "Coefficient of determination: 0.77\n"
          ]
        }
      ]
    },
    {
      "cell_type": "code",
      "source": [
        "import warnings\n",
        "warnings.filterwarnings(\"ignore\")\n",
        "from sklearn.datasets import load_boston\n",
        "from sklearn import preprocessing\n",
        "import pandas as pd\n",
        "import numpy as np\n",
        "import matplotlib.pyplot as plt\n",
        "from prettytable import PrettyTable\n",
        "from sklearn.linear_model import SGDRegressor\n",
        "from sklearn import preprocessing\n",
        "from sklearn.metrics import mean_squared_error\n",
        "from numpy import random\n",
        "from sklearn.model_selection import train_test_split"
      ],
      "metadata": {
        "id": "PtBl0rfWTjpc"
      },
      "execution_count": null,
      "outputs": []
    },
    {
      "cell_type": "code",
      "source": [
        "# SkLearn SGD classifier\n",
        "n_iter=100\n",
        "clf_ = SGDRegressor(max_iter=n_iter)\n",
        "clf_.fit(X_train, Y_train)\n",
        "Y_pred_sksgd=clf_.predict(X_test)\n",
        "plt.scatter(Y_test,Y_pred_sksgd)\n",
        "plt.grid()\n",
        "plt.xlabel('Actual y')\n",
        "plt.ylabel('Predicted y')\n",
        "plt.title('Scatter plot from actual y and predicted y')\n",
        "plt.show()\n",
        "\n",
        "print('Mean Squared Error :',mean_squared_error(Y_test, Y_pred_sksgd))"
      ],
      "metadata": {
        "colab": {
          "base_uri": "https://localhost:8080/",
          "height": 313
        },
        "id": "tlm5Z_UGT02U",
        "outputId": "7eec0e9e-6bff-46dc-b420-f938b6f396b8"
      },
      "execution_count": null,
      "outputs": [
        {
          "output_type": "display_data",
          "data": {
            "image/png": "[encoded data removed]",
            "text/plain": [
              "<Figure size 432x288 with 1 Axes>"
            ]
          },
          "metadata": {
            "needs_background": "light"
          }
        },
        {
          "output_type": "stream",
          "name": "stdout",
          "text": [
            "Mean Squared Error : 0.006809081960909414\n"
          ]
        }
      ]
    },
    {
      "cell_type": "code",
      "source": [
        "def MyCustomSGD(train_data,learning_rate,n_iter,k,divideby):\n",
        "    \n",
        "    # Initially we will keep our W and B as 0 as per the Training Data\n",
        "    w=np.zeros(shape=(1,train_data.shape[1]-1))\n",
        "    b=0\n",
        "    \n",
        "    cur_iter=1\n",
        "    while(cur_iter<=n_iter): \n",
        "\n",
        "        # We will create a small training data set of size K\n",
        "        temp=train_data.sample(k)\n",
        "        \n",
        "        # We create our X and Y from the above temp dataset\n",
        "        y=np.array(temp['Weight'])\n",
        "        #x=np.array(temp.drop('Male',axis=1))\n",
        "        x=np.array(temp['Height'])\n",
        "        \n",
        "        # We keep our initial gradients as 0\n",
        "        w_gradient=np.zeros(shape=(1,train_data.shape[1]-1))\n",
        "        b_gradient=0\n",
        "        \n",
        "        for i in range(k): # Calculating gradients for point in our K sized dataset\n",
        "            prediction=np.dot(w,x[i])+b\n",
        "            w_gradient=w_gradient+(-2)*x[i]*(y[i]-(prediction))\n",
        "            b_gradient=b_gradient+(-2)*(y[i]-(prediction))\n",
        "        \n",
        "        #Updating the weights(W) and Bias(b) with the above calculated Gradients\n",
        "        w=w-learning_rate*(w_gradient/k)\n",
        "        b=b-learning_rate*(b_gradient/k)\n",
        "        \n",
        "        # Incrementing the iteration value\n",
        "        cur_iter=cur_iter+1\n",
        "        \n",
        "        #Dividing the learning rate by the specified value\n",
        "        learning_rate=learning_rate/divideby\n",
        "        \n",
        "    return w,b #Returning the weights and Bias"
      ],
      "metadata": {
        "id": "EUjugj7eUD5M"
      },
      "execution_count": null,
      "outputs": []
    },
    {
      "cell_type": "code",
      "source": [
        "def My2CustomSGD(train_data,learning_rate,n_iter,k,divideby):\n",
        "    w=np.zeros(shape=(1,train_data.shape[1]-1))\n",
        "    b=0\n",
        "    cur_iter=1\n",
        "    while(cur_iter<=n_iter): \n",
        "#         print(\"LR: \",learning_rate)\n",
        "        temp=train_data.sample(k)\n",
        " \n",
        "    #return w,b\n",
        "    print(temp)\n",
        "    return temp"
      ],
      "metadata": {
        "id": "a6_iOt45Gale"
      },
      "execution_count": null,
      "outputs": []
    },
    {
      "cell_type": "code",
      "source": [
        "def predict(x,w,b):\n",
        "    y_pred=[]\n",
        "    for i in range(len(x)):\n",
        "        y=np.asscalar(np.dot(w,x[i])+b)\n",
        "        y_pred.append(y)\n",
        "    return np.array(y_pred)"
      ],
      "metadata": {
        "id": "GLz-ao60Gcyd"
      },
      "execution_count": null,
      "outputs": []
    },
    {
      "cell_type": "code",
      "source": [
        "scaler = preprocessing.StandardScaler().fit(X_train)\n",
        "x_train = scaler.transform(X_train)\n",
        "train_data=pd.DataFrame(x_train)"
      ],
      "metadata": {
        "id": "7c1bSbQsGyT7"
      },
      "execution_count": null,
      "outputs": []
    },
    {
      "cell_type": "code",
      "source": [
        "w,b=My2CustomSGD(train_data,learning_rate=1,n_iter=100,divideby=2,k=10)\n",
        "y_pred_customsgd=predict(x_test,w,b)\n",
        "\n",
        "plt.scatter(y_test,y_pred_customsgd)\n",
        "plt.grid()\n",
        "plt.xlabel('Actual y')\n",
        "plt.ylabel('Predicted y')\n",
        "plt.title('Scatter plot from actual y and predicted y')\n",
        "plt.show()\n",
        "print('Mean Squared Error :',mean_squared_error(y_test, y_pred_customsgd))"
      ],
      "metadata": {
        "id": "oUx9_IYvGfxG"
      },
      "execution_count": null,
      "outputs": []
    },
    {
      "cell_type": "code",
      "source": [
        "def predict(x,w,b):\n",
        "    y_pred=[]\n",
        "    for i in range(len(x)):\n",
        "        y=np.asscalar(np.dot(w,x[i])+b)\n",
        "        y_pred.append(y)\n",
        "    return np.array(y_pred)"
      ],
      "metadata": {
        "id": "VQlKbBhnUHcK"
      },
      "execution_count": null,
      "outputs": []
    },
    {
      "cell_type": "code",
      "source": [
        "w,b=MyCustomSGD(scaled_df_Normal,learning_rate=1,n_iter=100,divideby=2,k=10)\n",
        "y_pred_customsgd=predict(X_test,w[0,0],b)\n",
        "\n",
        "plt.scatter(Yy_test,y_pred_customsgd)\n",
        "plt.grid()\n",
        "plt.xlabel('Actual y')\n",
        "plt.ylabel('Predicted y')\n",
        "plt.title('Scatter plot from actual y and predicted y')\n",
        "plt.show()\n",
        "print('Mean Squared Error :',mean_squared_error(Y_test, y_pred_customsgd))"
      ],
      "metadata": {
        "id": "fSilPwHIVqtp"
      },
      "execution_count": null,
      "outputs": []
    }
  ]
}